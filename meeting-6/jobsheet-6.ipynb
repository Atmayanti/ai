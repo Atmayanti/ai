{
 "cells": [
  {
   "cell_type": "code",
   "execution_count": 1,
   "id": "ab97b93a",
   "metadata": {},
   "outputs": [
    {
     "name": "stdout",
     "output_type": "stream",
     "text": [
      "['Anne Isabella Milbanke', 'George Gordon Byron', 'Catherine Gordon', 'Captain John Byron']\n",
      "['Anne Isabella Blunt', 'Wilfrid Scawen Blunt', 'Augusta Ada King', 'William King-Noel', 'Anne Isabella Milbanke', 'George Gordon Byron', 'Catherine Gordon', 'Captain John Byron']\n",
      "[]\n"
     ]
    }
   ],
   "source": [
    "ada_family={'Judith Blunt-Lytton':['Anne Isabella Blunt', 'Wilfrid Scawen Blunt'],\n",
    "           'Ada King-Milbanke': ['Ralph King-Milbanke','Fanny Heriot'],\n",
    "           'Ralph King-Milbanke': ['Ausgusta Ada King', 'William King-Noel'],\n",
    "           'Anne Isabella Blunt': ['Augusta Ada King', 'William King-Noel'],\n",
    "           'Byron King-Noel': ['Augusta Ada King','William King-Noel'],\n",
    "            'Augusta Ada King': ['Anne Isabella Milbanke', 'George Gordon Byron'],\n",
    "           'George Gordon Byron': ['Catherine Gordon', 'Captain John Byron'],\n",
    "           'John Byron': ['Vice-Admiral John Byron', 'Sophia Trevannion']}\n",
    "\n",
    "def ancestors(genealogy, person):\n",
    "    list_of_ancestors=[]\n",
    "    \n",
    "    if person in genealogy:\n",
    "        list_of_ancestors=genealogy[person]\n",
    "        for e in genealogy[person]:\n",
    "            for i in ancestors(genealogy,e):\n",
    "                if i not in list_of_ancestors:\n",
    "                    list_of_ancestors+=ancestors(genealogy,e)\n",
    "    else:\n",
    "        list_of_ancestors+=[]\n",
    "        \n",
    "    return list_of_ancestors\n",
    "\n",
    "#1st Printing\n",
    "print(ancestors(ada_family,'Augusta Ada King'))\n",
    "#>>> ['Anne Isabella Milbanke', 'George Gordon Byron'.\n",
    "#      'Cathrine Gordon', 'Captain John Byron']\n",
    "\n",
    "#2nd Printing\n",
    "print(ancestors(ada_family, 'Judith Blunt-Lytton'))\n",
    "#>>> ['Anne Isabella Blunt', 'Wilfrid Scawen Blunt', 'Augusta Ada King',\n",
    "#     'William King-Noel', 'Anne Isabella Milbanke', 'George Gordon Byron',\n",
    "#     'Cathrine Gordon', Captain John Byron]\n",
    "\n",
    "#3rd Printing\n",
    "print(ancestors(ada_family,'Dave'))\n",
    "#>>> []"
   ]
  },
  {
   "cell_type": "code",
   "execution_count": 3,
   "id": "1142375f",
   "metadata": {},
   "outputs": [
    {
     "name": "stdout",
     "output_type": "stream",
     "text": [
      "['Anik', 'Lies', 'Fendi', 'Lutfi', 'Andin', 'Farhan', 'Arfan', 'Naura', 'Hanan', 'Lia', 'Vano']\n",
      "['Lutfi', 'Andin', 'Farhan', 'Arfan', 'Naura']\n",
      "[]\n"
     ]
    }
   ],
   "source": [
    "ada_family={'Rofi':['Anik', 'Lies', 'Fendi'],\n",
    "           'Setya': ['Anik', 'Lies', 'Fendi'],\n",
    "           'Anik': ['Lutfi', 'Andin'],\n",
    "            'Didik': ['Lutfi', 'Andin'],\n",
    "            'Lutfi': ['Farhan', 'Arfan'],\n",
    "            'Andin': ['Naura'],\n",
    "            'Lies': ['Hanan'],\n",
    "           'Fendi': ['Lia', 'Vano'],\n",
    "           'Ita': ['Lia', 'Vano']}\n",
    "\n",
    "def ancestors(genealogy, person):\n",
    "    list_of_ancestors=[]\n",
    "    \n",
    "    if person in genealogy:\n",
    "        list_of_ancestors=genealogy[person]\n",
    "        for e in genealogy[person]:\n",
    "            for i in ancestors(genealogy,e):\n",
    "                if i not in list_of_ancestors:\n",
    "                    list_of_ancestors+=ancestors(genealogy,e)\n",
    "    else:\n",
    "        list_of_ancestors+=[]\n",
    "        \n",
    "    return list_of_ancestors\n",
    "\n",
    "#1st Printing\n",
    "print(ancestors(ada_family,'Rofi'))\n",
    "#>>> ['Anik', 'Lies', 'Fendi', 'Lutfi', 'Andin', \n",
    "#    'Farhan', 'Arfan', 'Naura', 'Hanan', 'Lia', 'Vano']\n",
    "\n",
    "#2nd Printing\n",
    "print(ancestors(ada_family, 'Didik'))\n",
    "#>>> ['Lutfi', 'Andin', 'Farhan', 'Arfan', 'Naura']\n",
    "\n",
    "#3rd Printing\n",
    "print(ancestors(ada_family,'Bowo'))\n",
    "#>>> []"
   ]
  },
  {
   "cell_type": "code",
   "execution_count": 10,
   "id": "efce9356",
   "metadata": {},
   "outputs": [
    {
     "name": "stdout",
     "output_type": "stream",
     "text": [
      "['Lutfi', 'Anik', 'Didik', 'Rofi', 'Setya']\n",
      "['Fendi', 'Ita', 'Rofi', 'Setya']\n",
      "[]\n"
     ]
    }
   ],
   "source": [
    "n_family={'Farhan':['Lutfi'],\n",
    "           'Arfan': ['Lutfi'],\n",
    "            'Naura': ['Andin'],\n",
    "           'Lutfi': ['Anik', 'Didik'],\n",
    "           'Andin': ['Anik', 'Didik'],\n",
    "           'Hanan': ['Lies'],\n",
    "           'Lia': ['Fendi', 'Ita'],\n",
    "           'Vano': ['Fendi', 'Ita'],\n",
    "           'Anik': ['Rofi', 'Setya'],\n",
    "           'Lies': ['Rofi', 'Setya'],\n",
    "           'Fendi': ['Rofi', 'Setya']}\n",
    "\n",
    "def ancestors(genealogy, person):\n",
    "    list_of_ancestors=[]\n",
    "    \n",
    "    if person in genealogy:\n",
    "        list_of_ancestors=genealogy[person]\n",
    "        for e in genealogy[person]:\n",
    "            for i in ancestors(genealogy,e):\n",
    "                if i not in list_of_ancestors:\n",
    "                    list_of_ancestors+=ancestors(genealogy,e)\n",
    "    else:\n",
    "        list_of_ancestors+=[]\n",
    "        \n",
    "    return list_of_ancestors\n",
    "\n",
    "#1st Printing\n",
    "print(ancestors(n_family,'Arfan'))\n",
    "#>>> ['Lutfi', 'Anik', 'Didik', 'Rofi', 'Setya']\n",
    "\n",
    "#2nd Printing\n",
    "print(ancestors(n_family, 'Lia'))\n",
    "#>>> ['Fendi', 'Ita', 'Rofi', 'Setya']\n",
    "\n",
    "#3rd Printing\n",
    "print(ancestors(n_family,'Bowo'))\n",
    "#>>> []"
   ]
  },
  {
   "cell_type": "code",
   "execution_count": 8,
   "id": "6308417c",
   "metadata": {},
   "outputs": [
    {
     "ename": "AttributeError",
     "evalue": "module 'tensorflow' has no attribute 'Session'",
     "output_type": "error",
     "traceback": [
      "\u001b[1;31m---------------------------------------------------------------------------\u001b[0m",
      "\u001b[1;31mAttributeError\u001b[0m                            Traceback (most recent call last)",
      "\u001b[1;32m<ipython-input-8-79dfd75e1038>\u001b[0m in \u001b[0;36m<module>\u001b[1;34m\u001b[0m\n\u001b[0;32m      1\u001b[0m \u001b[1;32mimport\u001b[0m \u001b[0mtensorflow\u001b[0m \u001b[1;32mas\u001b[0m \u001b[0mtf\u001b[0m\u001b[1;33m\u001b[0m\u001b[1;33m\u001b[0m\u001b[0m\n\u001b[0;32m      2\u001b[0m \u001b[0mhello\u001b[0m \u001b[1;33m=\u001b[0m \u001b[0mtf\u001b[0m\u001b[1;33m.\u001b[0m\u001b[0mconstant\u001b[0m\u001b[1;33m(\u001b[0m\u001b[1;34m\"maya\"\u001b[0m\u001b[1;33m)\u001b[0m\u001b[1;33m\u001b[0m\u001b[1;33m\u001b[0m\u001b[0m\n\u001b[1;32m----> 3\u001b[1;33m \u001b[0msesi\u001b[0m \u001b[1;33m=\u001b[0m \u001b[0mtf\u001b[0m\u001b[1;33m.\u001b[0m\u001b[0mSession\u001b[0m\u001b[1;33m(\u001b[0m\u001b[1;33m)\u001b[0m\u001b[1;33m\u001b[0m\u001b[1;33m\u001b[0m\u001b[0m\n\u001b[0m\u001b[0;32m      4\u001b[0m \u001b[0mprint\u001b[0m\u001b[1;33m(\u001b[0m\u001b[0mhello\u001b[0m\u001b[1;33m)\u001b[0m\u001b[1;33m\u001b[0m\u001b[1;33m\u001b[0m\u001b[0m\n",
      "\u001b[1;31mAttributeError\u001b[0m: module 'tensorflow' has no attribute 'Session'"
     ]
    }
   ],
   "source": [
    "import tensorflow as tf\n",
    "hello = tf.constant(\"maya\")\n",
    "sesi = tf.Session()\n",
    "print(hello)"
   ]
  },
  {
   "cell_type": "code",
   "execution_count": null,
   "id": "e05c2048",
   "metadata": {},
   "outputs": [],
   "source": []
  }
 ],
 "metadata": {
  "kernelspec": {
   "display_name": "Python 3",
   "language": "python",
   "name": "python3"
  },
  "language_info": {
   "codemirror_mode": {
    "name": "ipython",
    "version": 3
   },
   "file_extension": ".py",
   "mimetype": "text/x-python",
   "name": "python",
   "nbconvert_exporter": "python",
   "pygments_lexer": "ipython3",
   "version": "3.8.8"
  }
 },
 "nbformat": 4,
 "nbformat_minor": 5
}
