{
 "cells": [
  {
   "cell_type": "code",
   "execution_count": 65,
   "id": "7d9a34ee",
   "metadata": {},
   "outputs": [
    {
     "name": "stdout",
     "output_type": "stream",
     "text": [
      "Hasil penelusuran graf menggunakan BFS:\n",
      "A B C D E F G H "
     ]
    }
   ],
   "source": [
    "# Praktikum BFS\n",
    "from queue import Queue\n",
    "graph = {\n",
    "    'A' : ['B','C'],\n",
    "    'B' : ['D', 'E'],\n",
    "    'C' : ['F'],\n",
    "    'D' : [],\n",
    "    'E' : ['F', 'G'],\n",
    "    'F' : ['H'],\n",
    "    'G' : ['H'],\n",
    "    'H' : ['G']\n",
    "}\n",
    "\n",
    "visited = []\n",
    "queue = []\n",
    "\n",
    "def bfs(visited, graph, node):\n",
    "    visited.append(node)\n",
    "    queue.append(node)\n",
    "    \n",
    "    while queue:\n",
    "        s = queue.pop(0)\n",
    "        print(s, end = \" \")\n",
    "        \n",
    "        for neighbour in graph[s]:\n",
    "            if neighbour not in visited:\n",
    "                visited.append(neighbour)\n",
    "                queue.append(neighbour)\n",
    "            \n",
    "print(\"Hasil penelusuran graf menggunakan BFS:\")\n",
    "bfs(visited, graph, 'A')"
   ]
  },
  {
   "cell_type": "code",
   "execution_count": 7,
   "id": "d9bfcf41",
   "metadata": {},
   "outputs": [
    {
     "name": "stdout",
     "output_type": "stream",
     "text": [
      "Hasil penelusuran graf menggunakan DFS:\n",
      "A\n",
      "B\n",
      "D\n",
      "E\n",
      "F\n",
      "H\n",
      "G\n",
      "C\n"
     ]
    }
   ],
   "source": [
    "# Praktikum DFS\n",
    "graph = {\n",
    "    'A' : ['B', 'C'],\n",
    "    'B' : ['D', 'E'],\n",
    "    'C' : ['F'],\n",
    "    'D' : [],\n",
    "    'E' : ['F'],\n",
    "    'F' : ['H'],\n",
    "    'G' : ['H'],\n",
    "    'H' : ['G']\n",
    "}\n",
    "\n",
    "visited = set()\n",
    "\n",
    "def dfs(visited, graph, node):\n",
    "    if node not in visited:\n",
    "        print(node)\n",
    "        visited.add(node)\n",
    "        for neighbour in graph[node]:\n",
    "            dfs(visited, graph, neighbour)\n",
    "\n",
    "print(\"Hasil penelusuran graf menggunakan DFS:\")\n",
    "dfs(visited, graph, 'A')"
   ]
  },
  {
   "cell_type": "code",
   "execution_count": 59,
   "id": "b073cc34",
   "metadata": {},
   "outputs": [
    {
     "name": "stdout",
     "output_type": "stream",
     "text": [
      "Hasil penelusuran graf menggunakan BFS:\n",
      "A B E F G C H D "
     ]
    }
   ],
   "source": [
    "# Tugas 1 BFS\n",
    "from queue import Queue\n",
    "\n",
    "graph = {\n",
    "    'A' : ['B','E','F'],\n",
    "    'B' : ['A','F','G'],\n",
    "    'C' : ['D','G'],\n",
    "    'D' : ['C','H'],\n",
    "    'E' : ['A','F'],\n",
    "    'F' : ['A','B','E'],\n",
    "    'G' : ['B','C','H'],\n",
    "    'H' : ['D','G']\n",
    "}\n",
    "\n",
    "visited = []\n",
    "queue = []\n",
    "\n",
    "def bfs(visited, graph, node):\n",
    "    visited.append(node)\n",
    "    queue.append(node)\n",
    "    \n",
    "    while queue:\n",
    "        s = queue.pop(0)\n",
    "        print(s, end = \" \")\n",
    "        \n",
    "        for neighbour in graph[s]:\n",
    "            if neighbour not in visited:\n",
    "                visited.append(neighbour)\n",
    "                queue.append(neighbour)\n",
    "print(\"Hasil penelusuran graf menggunakan BFS:\")\n",
    "bfs(visited, graph, 'A')"
   ]
  },
  {
   "cell_type": "code",
   "execution_count": 47,
   "id": "09c33d23",
   "metadata": {},
   "outputs": [
    {
     "name": "stdout",
     "output_type": "stream",
     "text": [
      "Hasil penelusuran graf menggunakan DFS:\n",
      "A\n",
      "B\n",
      "F\n",
      "E\n",
      "G\n",
      "C\n",
      "D\n",
      "H\n"
     ]
    }
   ],
   "source": [
    "# Tugas 1 DFS\n",
    "graph = {\n",
    "    'A' : ['B','E','F'],\n",
    "    'B' : ['A','F','G'],\n",
    "    'C' : ['D','G'],\n",
    "    'D' : ['C','H'],\n",
    "    'E' : ['A','F'],\n",
    "    'F' : ['A','B','E'],\n",
    "    'G' : ['B','C','H'],\n",
    "    'H' : ['D','G']\n",
    "}\n",
    "\n",
    "visited = set()\n",
    "\n",
    "def dfs(visited, graph, node):\n",
    "    if node not in visited:\n",
    "        print(node)\n",
    "        visited.add(node)\n",
    "        for neighbour in graph[node]:\n",
    "            dfs(visited, graph, neighbour)\n",
    "            \n",
    "print(\"Hasil penelusuran graf menggunakan DFS:\")\n",
    "dfs(visited, graph, 'A')"
   ]
  },
  {
   "cell_type": "code",
   "execution_count": 63,
   "id": "7f90d683",
   "metadata": {},
   "outputs": [
    {
     "name": "stdout",
     "output_type": "stream",
     "text": [
      "Hasil penelusuran graf menggunakan BFS : \n",
      "['A', 'B', 'F', 'G', 'E', 'C', 'D', 'H']\n",
      "\n",
      "Hasil penelusuran huruf 'D' graf menggunakan BFS :\n",
      " ['A', 'B', 'G', 'C', 'D']\n"
     ]
    }
   ],
   "source": [
    "graph = {\n",
    "    'A' : ['B'],\n",
    "    'B' : ['A','F','G'],\n",
    "    'C' : ['D','G'],\n",
    "    'D' : ['C','H'],\n",
    "    'E' : ['F'],\n",
    "    'F' : ['B','E'],\n",
    "    'G' : ['B','C'],\n",
    "    'H' : ['D']\n",
    "}\n",
    "visited = {}\n",
    "level = {}\n",
    "parent = {}\n",
    "bfs = []\n",
    "queue = Queue()\n",
    "\n",
    "for node in graph.keys():\n",
    "    visited[node] = False\n",
    "    parent[node] = None\n",
    "    level[node] = -1\n",
    "    \n",
    "s = \"A\"\n",
    "visited[s] = True\n",
    "level[s] = 0\n",
    "queue.put(s)\n",
    "\n",
    "while not queue.empty():\n",
    "    u = queue.get()\n",
    "    bfs.append(u)\n",
    "    \n",
    "    for v in graph[u]:\n",
    "        if not visited[v]:\n",
    "            visited[v] = True\n",
    "            parent[v] = u\n",
    "            level[v] = level[u]+1\n",
    "            queue.put(v)\n",
    "            \n",
    "print(\"Hasil penelusuran graf menggunakan BFS : \")\n",
    "print(bfs)\n",
    "\n",
    "v = \"D\"\n",
    "path = []\n",
    "while v is not None:\n",
    "    path.append(v)\n",
    "    v = parent[v]\n",
    "path.reverse()\n",
    "\n",
    "print(\"\\nHasil penelusuran huruf 'D' graf menggunakan BFS :\\n\", path)"
   ]
  },
  {
   "cell_type": "code",
   "execution_count": 64,
   "id": "1a69b38b",
   "metadata": {},
   "outputs": [
    {
     "name": "stdout",
     "output_type": "stream",
     "text": [
      "Hasil penelusuran graf menggunakan DFS : \n",
      "['A', 'B', 'F', 'E', 'G', 'C', 'D', 'H']\n",
      "\n",
      "Hasil penelusuran huruf 'D' graf menggunakan DFS :\n",
      "['A', 'B', 'G', 'C', 'D']\n"
     ]
    }
   ],
   "source": [
    "color = {}\n",
    "parent = {}\n",
    "trav_time = {}\n",
    "dfs = []\n",
    "\n",
    "for node in graph.keys():\n",
    "    color[node] = \"W\"\n",
    "    parent[node] = None\n",
    "    trav_time[node] = [-1, -1]\n",
    "    \n",
    "time = 0\n",
    "def dfs_util(u):\n",
    "    global time\n",
    "    color[u] = \"G\"\n",
    "    trav_time[u][0] = time\n",
    "    dfs.append(u)\n",
    "    \n",
    "    for v in graph[u]:\n",
    "        if color[v] == \"W\":\n",
    "            parent[v] = u\n",
    "            dfs_util(v)\n",
    "    color[u] = \"B\"\n",
    "    trav_time[u][1] = time\n",
    "    time += 1\n",
    "    \n",
    "print(\"Hasil penelusuran graf menggunakan DFS : \")\n",
    "dfs_util(\"A\")\n",
    "print(dfs)\n",
    "\n",
    "v = \"D\"\n",
    "path = []\n",
    "while v is not None:\n",
    "    path.append(v)\n",
    "    v = parent[v]\n",
    "path.reverse()\n",
    "\n",
    "print(\"\\nHasil penelusuran huruf 'D' graf menggunakan DFS :\")\n",
    "print(path)"
   ]
  },
  {
   "cell_type": "code",
   "execution_count": 8,
   "id": "957a6c45",
   "metadata": {},
   "outputs": [
    {
     "name": "stdout",
     "output_type": "stream",
     "text": [
      "Hasil penelusuran graf menggunakan BFS:\n",
      "A B F G E C D H "
     ]
    }
   ],
   "source": [
    "# Tugas 2 BFS\n",
    "from queue import Queue\n",
    "\n",
    "graph = {\n",
    "    'A' : ['B'],\n",
    "    'B' : ['A','F','G'],\n",
    "    'C' : ['D','G'],\n",
    "    'D' : ['C','H'],\n",
    "    'E' : ['F'],\n",
    "    'F' : ['B','E'],\n",
    "    'G' : ['B','C'],\n",
    "    'H' : ['D']\n",
    "}\n",
    "\n",
    "visited = []\n",
    "queue = []\n",
    "\n",
    "def bfs(visited, graph, node):\n",
    "    visited.append(node)\n",
    "    queue.append(node)\n",
    "    \n",
    "    while queue:\n",
    "        s = queue.pop(0)\n",
    "        print(s, end = \" \")\n",
    "        \n",
    "        for neighbour in graph[s]:\n",
    "            if neighbour not in visited:\n",
    "                visited.append(neighbour)\n",
    "                queue.append(neighbour)\n",
    "print(\"Hasil penelusuran graf menggunakan BFS:\")\n",
    "bfs(visited, graph, 'A')"
   ]
  },
  {
   "cell_type": "code",
   "execution_count": 9,
   "id": "5b8ef801",
   "metadata": {},
   "outputs": [
    {
     "name": "stdout",
     "output_type": "stream",
     "text": [
      "Hasil penelusuran graf menggunakan DFS:\n",
      "A\n",
      "B\n",
      "F\n",
      "E\n",
      "G\n",
      "C\n",
      "D\n",
      "H\n"
     ]
    }
   ],
   "source": [
    "# TUGAS 2 DFS\n",
    "graph = {\n",
    "    'A' : ['B'],\n",
    "    'B' : ['A','F','G'],\n",
    "    'C' : ['D','G'],\n",
    "    'D' : ['C','H'],\n",
    "    'E' : ['F'],\n",
    "    'F' : ['B','E'],\n",
    "    'G' : ['B','C'],\n",
    "    'H' : ['D']\n",
    "}\n",
    "\n",
    "visited = set()\n",
    "\n",
    "def dfs(visited, graph, node):\n",
    "    if node not in visited:\n",
    "        print(node)\n",
    "        visited.add(node)\n",
    "        for neighbour in graph[node]:\n",
    "            dfs(visited, graph, neighbour)\n",
    "            \n",
    "print(\"Hasil penelusuran graf menggunakan DFS:\")\n",
    "dfs(visited, graph, 'A')"
   ]
  },
  {
   "cell_type": "code",
   "execution_count": null,
   "id": "d4cdf5fb",
   "metadata": {},
   "outputs": [],
   "source": []
  }
 ],
 "metadata": {
  "kernelspec": {
   "display_name": "Python 3",
   "language": "python",
   "name": "python3"
  },
  "language_info": {
   "codemirror_mode": {
    "name": "ipython",
    "version": 3
   },
   "file_extension": ".py",
   "mimetype": "text/x-python",
   "name": "python",
   "nbconvert_exporter": "python",
   "pygments_lexer": "ipython3",
   "version": "3.8.8"
  }
 },
 "nbformat": 4,
 "nbformat_minor": 5
}
