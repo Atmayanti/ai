{
 "cells": [
  {
   "cell_type": "code",
   "execution_count": 1,
   "id": "801dc14e",
   "metadata": {},
   "outputs": [
    {
     "data": {
      "text/plain": [
       "'0b1010'"
      ]
     },
     "execution_count": 1,
     "metadata": {},
     "output_type": "execute_result"
    }
   ],
   "source": [
    "bin(10)"
   ]
  },
  {
   "cell_type": "code",
   "execution_count": 2,
   "id": "82811bca",
   "metadata": {
    "scrolled": true
   },
   "outputs": [
    {
     "data": {
      "text/plain": [
       "10"
      ]
     },
     "execution_count": 2,
     "metadata": {},
     "output_type": "execute_result"
    }
   ],
   "source": [
    "int(0b1010)"
   ]
  },
  {
   "cell_type": "code",
   "execution_count": 3,
   "id": "1bd451b5",
   "metadata": {
    "scrolled": false
   },
   "outputs": [
    {
     "name": "stdout",
     "output_type": "stream",
     "text": [
      "0b1010\n",
      "10\n"
     ]
    }
   ],
   "source": [
    "a=10\n",
    "bin_a=bin(a)\n",
    "print (\"Bilangan biner => \", bin_a)\n",
    "print (\"Bilangan integer => \", int(bin_a,2))"
   ]
  },
  {
   "cell_type": "code",
   "execution_count": 19,
   "id": "b685b093",
   "metadata": {},
   "outputs": [
    {
     "name": "stdout",
     "output_type": "stream",
     "text": [
      "Desimal 10 dalam oktal = 0o12\n",
      "Oktal 12 dalam desimal = 10\n"
     ]
    }
   ],
   "source": [
    "#desimal ke oktal\n",
    "int_a=10\n",
    "oct_a=oct(int_a)\n",
    "print (\"Desimal\", int_a,\"dalam oktal =\", oct_a)\n",
    "\n",
    "#oktal ke desimal\n",
    "oct_b='12'\n",
    "int_b=int(oct_b, 8)\n",
    "print (\"Oktal\", oct_b,\"dalam desimal =\", int_b)"
   ]
  },
  {
   "cell_type": "code",
   "execution_count": 20,
   "id": "100197b6",
   "metadata": {
    "scrolled": true
   },
   "outputs": [
    {
     "name": "stdout",
     "output_type": "stream",
     "text": [
      "Desimal 10 dalam hexa = 0xa\n",
      "Hexa A dalam desimal = 10\n"
     ]
    }
   ],
   "source": [
    "#desimal ke hexa\n",
    "int_a=10\n",
    "hex_a=hex(int_a)\n",
    "print (\"Desimal\", int_a,\"dalam hexa =\", hex_a)\n",
    "\n",
    "#hexa ke desimal\n",
    "hex_b='A'\n",
    "int_b=int(hex_b, 16)\n",
    "print (\"Hexa\", hex_b,\"dalam desimal =\", int_b)"
   ]
  },
  {
   "cell_type": "code",
   "execution_count": 16,
   "id": "9f35fd5f",
   "metadata": {},
   "outputs": [
    {
     "name": "stdout",
     "output_type": "stream",
     "text": [
      "Biner 1010 dalam oktal = 0o12\n",
      "Oktal 12 dalam biner = 0b1010\n"
     ]
    }
   ],
   "source": [
    "#biner ke oktal\n",
    "bin_a='1010'\n",
    "oct_a=oct(bin_a)\n",
    "print (\"Biner\", bin_a,\"dalam oktal =\", oct_a)\n",
    "\n",
    "#oktal ke biner\n",
    "oct_b='12'\n",
    "int_b=int(oct_b,8)\n",
    "bin_b=bin(int_b)\n",
    "print (\"Oktal\", oct_b,\"dalam biner =\", bin_b)"
   ]
  },
  {
   "cell_type": "code",
   "execution_count": 31,
   "id": "6e1de33f",
   "metadata": {},
   "outputs": [
    {
     "name": "stdout",
     "output_type": "stream",
     "text": [
      "Biner 1010 dalam hexa = 0xa\n",
      "Hexa A dalam biner = 0b1010\n"
     ]
    }
   ],
   "source": [
    "#biner ke hexa\n",
    "bin_a='1010'\n",
    "int_a=int(bin_a,2)\n",
    "hex_a=hex(int_a)\n",
    "print (\"Biner\", bin_a,\"dalam hexa =\", hex_a)\n",
    "\n",
    "#hexa ke biner\n",
    "hex_b = 'A'\n",
    "int_b=int(hex_b,16)\n",
    "bin_b=bin(int_b)\n",
    "print (\"Hexa\", hex_b,\"dalam biner =\", bin_b)"
   ]
  },
  {
   "cell_type": "code",
   "execution_count": 35,
   "id": "fc7cad18",
   "metadata": {},
   "outputs": [
    {
     "name": "stdout",
     "output_type": "stream",
     "text": [
      "Oktal 12 dalam hexa = 0xa\n",
      "Hexa A dalam biner = 0o12\n"
     ]
    }
   ],
   "source": [
    "#oktal ke hexa\n",
    "oct_a='12'\n",
    "int_a=int(oct_a,8)\n",
    "hex_a=hex(int_a)\n",
    "print (\"Oktal\", oct_a,\"dalam hexa =\", hex_a)\n",
    "\n",
    "#hexa ke oktal\n",
    "hex_b = 'A'\n",
    "int_b=int(hex_b,16)\n",
    "oct_b=oct(int_b)\n",
    "print (\"Hexa\", hex_b,\"dalam biner =\", oct_b)"
   ]
  },
  {
   "cell_type": "code",
   "execution_count": null,
   "id": "c09f7fa2",
   "metadata": {},
   "outputs": [],
   "source": []
  }
 ],
 "metadata": {
  "kernelspec": {
   "display_name": "Python 3",
   "language": "python",
   "name": "python3"
  },
  "language_info": {
   "codemirror_mode": {
    "name": "ipython",
    "version": 3
   },
   "file_extension": ".py",
   "mimetype": "text/x-python",
   "name": "python",
   "nbconvert_exporter": "python",
   "pygments_lexer": "ipython3",
   "version": "3.8.8"
  }
 },
 "nbformat": 4,
 "nbformat_minor": 5
}
