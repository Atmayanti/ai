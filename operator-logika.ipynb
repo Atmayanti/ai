{
 "cells": [
  {
   "cell_type": "code",
   "execution_count": 1,
   "id": "bc29803f",
   "metadata": {},
   "outputs": [
    {
     "data": {
      "text/plain": [
       "12"
      ]
     },
     "execution_count": 1,
     "metadata": {},
     "output_type": "execute_result"
    }
   ],
   "source": [
    "a = 0b00111100\n",
    "b = 0b00001101"
   ]
  },
  {
   "cell_type": "code",
   "execution_count": 2,
   "id": "7e671092",
   "metadata": {},
   "outputs": [
    {
     "data": {
      "text/plain": [
       "61"
      ]
     },
     "execution_count": 2,
     "metadata": {},
     "output_type": "execute_result"
    }
   ],
   "source": [
    "a = 0b00111100\n",
    "b = 0b00001101\n",
    "a | b"
   ]
  },
  {
   "cell_type": "code",
   "execution_count": 3,
   "id": "a283e728",
   "metadata": {},
   "outputs": [
    {
     "data": {
      "text/plain": [
       "49"
      ]
     },
     "execution_count": 3,
     "metadata": {},
     "output_type": "execute_result"
    }
   ],
   "source": [
    "a = 0b00111100\n",
    "b = 0b00001101\n",
    "a ^ b"
   ]
  },
  {
   "cell_type": "code",
   "execution_count": 4,
   "id": "9f4ae613",
   "metadata": {},
   "outputs": [
    {
     "data": {
      "text/plain": [
       "-61"
      ]
     },
     "execution_count": 4,
     "metadata": {},
     "output_type": "execute_result"
    }
   ],
   "source": [
    "a = 0b00111100\n",
    "b = 0b00001101\n",
    "~a"
   ]
  },
  {
   "cell_type": "code",
   "execution_count": 3,
   "id": "a0984927",
   "metadata": {},
   "outputs": [
    {
     "name": "stdout",
     "output_type": "stream",
     "text": [
      "hasil operasi AND => 0b1100\n"
     ]
    }
   ],
   "source": [
    "a = 0b00111100\n",
    "b = 0b00001101\n",
    "print(\"hasil operasi AND =>\", bin(a & b))"
   ]
  },
  {
   "cell_type": "code",
   "execution_count": 2,
   "id": "7841208e",
   "metadata": {},
   "outputs": [
    {
     "name": "stdout",
     "output_type": "stream",
     "text": [
      "hasil operasi OR => 0b111101\n"
     ]
    }
   ],
   "source": [
    "a = 0b00111100\n",
    "b = 0b00001101\n",
    "print(\"hasil operasi OR =>\", bin(a | b))"
   ]
  },
  {
   "cell_type": "code",
   "execution_count": 5,
   "id": "2e389c87",
   "metadata": {},
   "outputs": [
    {
     "name": "stdout",
     "output_type": "stream",
     "text": [
      "hasil operasi XOR => 0b110001\n"
     ]
    }
   ],
   "source": [
    "a = 0b00111100\n",
    "b = 0b00001101\n",
    "print(\"hasil operasi XOR =>\", bin(a ^ b))"
   ]
  },
  {
   "cell_type": "code",
   "execution_count": 4,
   "id": "031ea580",
   "metadata": {},
   "outputs": [
    {
     "name": "stdout",
     "output_type": "stream",
     "text": [
      "hasil operasi NOT => -0b111101\n"
     ]
    }
   ],
   "source": [
    "a = 0b00111100\n",
    "b = 0b00001101\n",
    "print(\"hasil operasi NOT =>\", bin(~a))"
   ]
  },
  {
   "cell_type": "code",
   "execution_count": 22,
   "id": "10a12dad",
   "metadata": {},
   "outputs": [
    {
     "name": "stdout",
     "output_type": "stream",
     "text": [
      "hasil operasi AND => 0b0\n"
     ]
    }
   ],
   "source": [
    "a = 20\n",
    "b = 75\n",
    "print(\"hasil operasi AND =>\", bin(a & b))"
   ]
  },
  {
   "cell_type": "code",
   "execution_count": 23,
   "id": "3964f127",
   "metadata": {},
   "outputs": [
    {
     "name": "stdout",
     "output_type": "stream",
     "text": [
      "hasil operasi OR => 0b1011111\n"
     ]
    }
   ],
   "source": [
    "a = 20\n",
    "b = 75\n",
    "print(\"hasil operasi OR =>\", bin(a | b))"
   ]
  },
  {
   "cell_type": "code",
   "execution_count": 24,
   "id": "2a6fd120",
   "metadata": {},
   "outputs": [
    {
     "name": "stdout",
     "output_type": "stream",
     "text": [
      "hasil operasi XOR => 0b1011111\n"
     ]
    }
   ],
   "source": [
    "a = 20\n",
    "b = 75\n",
    "print(\"hasil operasi XOR =>\", bin(a ^ b))"
   ]
  },
  {
   "cell_type": "code",
   "execution_count": 25,
   "id": "128f8236",
   "metadata": {},
   "outputs": [
    {
     "name": "stdout",
     "output_type": "stream",
     "text": [
      "hasil operasi NOT => -0b10101\n"
     ]
    }
   ],
   "source": [
    "a = 20\n",
    "b = 75\n",
    "print(\"hasil operasi NOT =>\", bin(~a))"
   ]
  },
  {
   "cell_type": "code",
   "execution_count": 26,
   "id": "4bb8ae65",
   "metadata": {},
   "outputs": [
    {
     "name": "stdout",
     "output_type": "stream",
     "text": [
      "hasil operasi AND => 0b1000\n"
     ]
    }
   ],
   "source": [
    "a = 15\n",
    "b = 40\n",
    "print(\"hasil operasi AND =>\", bin(a & b))"
   ]
  },
  {
   "cell_type": "code",
   "execution_count": 27,
   "id": "26bed522",
   "metadata": {},
   "outputs": [
    {
     "name": "stdout",
     "output_type": "stream",
     "text": [
      "hasil operasi OR => 0b101111\n"
     ]
    }
   ],
   "source": [
    "a = 15\n",
    "b = 40\n",
    "print(\"hasil operasi OR =>\", bin(a | b))"
   ]
  },
  {
   "cell_type": "code",
   "execution_count": 9,
   "id": "b7c243e5",
   "metadata": {},
   "outputs": [
    {
     "name": "stdout",
     "output_type": "stream",
     "text": [
      "hasil operasi XOR => 39\n"
     ]
    }
   ],
   "source": [
    "a = 15\n",
    "b = 40\n",
    "print(\"hasil operasi XOR =>\", bin(a ^ b))"
   ]
  },
  {
   "cell_type": "code",
   "execution_count": 28,
   "id": "71ab891b",
   "metadata": {},
   "outputs": [
    {
     "name": "stdout",
     "output_type": "stream",
     "text": [
      "hasil operasi NOT => -0b10000\n"
     ]
    }
   ],
   "source": [
    "a = 15\n",
    "b = 40\n",
    "print(\"hasil operasi NOT =>\", bin(~a))"
   ]
  },
  {
   "cell_type": "code",
   "execution_count": 29,
   "id": "fc30d392",
   "metadata": {},
   "outputs": [
    {
     "name": "stdout",
     "output_type": "stream",
     "text": [
      "hasil operasi AND => 0b10000001\n"
     ]
    }
   ],
   "source": [
    "a = 0xAF\n",
    "b = 0x91\n",
    "print(\"hasil operasi AND =>\", bin(a & b))"
   ]
  },
  {
   "cell_type": "code",
   "execution_count": 30,
   "id": "f8c24127",
   "metadata": {},
   "outputs": [
    {
     "name": "stdout",
     "output_type": "stream",
     "text": [
      "hasil operasi OR => 0b10111111\n"
     ]
    }
   ],
   "source": [
    "a = 0xAF\n",
    "b = 0x91\n",
    "print(\"hasil operasi OR =>\", bin(a | b))"
   ]
  },
  {
   "cell_type": "code",
   "execution_count": 31,
   "id": "9f8272f6",
   "metadata": {},
   "outputs": [
    {
     "name": "stdout",
     "output_type": "stream",
     "text": [
      "hasil operasi XOR => 0b111110\n"
     ]
    }
   ],
   "source": [
    "a = 0xAF\n",
    "b = 0x91\n",
    "print(\"hasil operasi XOR =>\", bin(a ^ b))"
   ]
  },
  {
   "cell_type": "code",
   "execution_count": 32,
   "id": "1337e825",
   "metadata": {},
   "outputs": [
    {
     "name": "stdout",
     "output_type": "stream",
     "text": [
      "hasil operasi NOT => -0b10110000\n"
     ]
    }
   ],
   "source": [
    "a = 0xAF\n",
    "b = 0x91\n",
    "print(\"hasil operasi NOT =>\", bin(~a))"
   ]
  },
  {
   "cell_type": "code",
   "execution_count": 33,
   "id": "a233ef47",
   "metadata": {},
   "outputs": [
    {
     "name": "stdout",
     "output_type": "stream",
     "text": [
      "hasil operasi AND => 0b10000\n"
     ]
    }
   ],
   "source": [
    "a = 0x50\n",
    "b = 0xBE\n",
    "print(\"hasil operasi AND =>\", bin(a & b))"
   ]
  },
  {
   "cell_type": "code",
   "execution_count": 34,
   "id": "2e98d03f",
   "metadata": {},
   "outputs": [
    {
     "name": "stdout",
     "output_type": "stream",
     "text": [
      "hasil operasi OR => 0b11111110\n"
     ]
    }
   ],
   "source": [
    "a = 0x50\n",
    "b = 0xBE\n",
    "print(\"hasil operasi OR =>\", bin(a | b))"
   ]
  },
  {
   "cell_type": "code",
   "execution_count": 35,
   "id": "2fd54bfb",
   "metadata": {},
   "outputs": [
    {
     "name": "stdout",
     "output_type": "stream",
     "text": [
      "hasil operasi XOR => 0b11101110\n"
     ]
    }
   ],
   "source": [
    "a = 0x50\n",
    "b = 0xBE\n",
    "print(\"hasil operasi XOR =>\", bin(a ^ b))"
   ]
  },
  {
   "cell_type": "code",
   "execution_count": 36,
   "id": "0c4e3ccc",
   "metadata": {},
   "outputs": [
    {
     "name": "stdout",
     "output_type": "stream",
     "text": [
      "hasil operasi NOT => -0b1010001\n"
     ]
    }
   ],
   "source": [
    "a = 0x50\n",
    "b = 0xBE\n",
    "print(\"hasil operasi NOT =>\", bin(~a))"
   ]
  },
  {
   "cell_type": "code",
   "execution_count": null,
   "id": "40a7445a",
   "metadata": {},
   "outputs": [],
   "source": []
  }
 ],
 "metadata": {
  "kernelspec": {
   "display_name": "Python 3",
   "language": "python",
   "name": "python3"
  },
  "language_info": {
   "codemirror_mode": {
    "name": "ipython",
    "version": 3
   },
   "file_extension": ".py",
   "mimetype": "text/x-python",
   "name": "python",
   "nbconvert_exporter": "python",
   "pygments_lexer": "ipython3",
   "version": "3.8.8"
  }
 },
 "nbformat": 4,
 "nbformat_minor": 5
}
