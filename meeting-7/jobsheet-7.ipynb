{
 "cells": [
  {
   "cell_type": "code",
   "execution_count": 2,
   "id": "cd767534",
   "metadata": {},
   "outputs": [
    {
     "name": "stdout",
     "output_type": "stream",
     "text": [
      "[['vertebrate', 'duck'], ['flying', 'duck'], ['mammal', 'cat'], ['animal', 'duck'], ['bird', 'duck'], ['vertebrate', 'cat'], ['animal', 'cat']]\n"
     ]
    }
   ],
   "source": [
    "global facts\n",
    "global is_changed\n",
    "\n",
    "is_changed = True\n",
    "facts = [[\"vertebrate\", \"duck\"],[\"flying\",\"duck\"],[\"mammal\",\"cat\"]]\n",
    "\n",
    "def assert_fact(fact):\n",
    "    global facts\n",
    "    global is_changed\n",
    "    if not fact in facts:\n",
    "        facts += [fact]\n",
    "        is_changed = True\n",
    "\n",
    "while is_changed:\n",
    "    is_changed = False\n",
    "    for A1 in facts:\n",
    "        if A1[0] == \"mammal\":\n",
    "            assert_fact([\"vertebrate\", A1[1]])\n",
    "        if A1[0] == \"vertebrate\":\n",
    "            assert_fact([\"animal\", A1[1]])\n",
    "        if A1[0] == \"vertebrate\" and [\"flying\",A1[1]] in facts:\n",
    "            assert_fact([\"bird\", A1[1]])\n",
    "            \n",
    "print(facts)"
   ]
  },
  {
   "cell_type": "code",
   "execution_count": 1,
   "id": "d7b7a34c",
   "metadata": {},
   "outputs": [
    {
     "name": "stdout",
     "output_type": "stream",
     "text": [
      "[['vertebrate', 'duck'], ['flying', 'duck'], ['mammal', 'cat'], ['mammal', 'cow'], ['animal', 'duck'], ['bird', 'duck'], ['vertebrate', 'cat'], ['menyusui', 'cat'], ['vertebrate', 'cow'], ['menyusui', 'cow'], ['animal', 'cat'], ['animal', 'cow']]\n"
     ]
    }
   ],
   "source": [
    "global facts\n",
    "global is_changed\n",
    "\n",
    "is_changed = True\n",
    "facts = [[\"vertebrate\", \"duck\"],[\"flying\",\"duck\"],[\"mammal\",\"cat\"],\n",
    "        [\"mammal\", \"cow\"]]\n",
    "\n",
    "def assert_fact(fact):\n",
    "    global facts\n",
    "    global is_changed\n",
    "    if not fact in facts:\n",
    "        facts += [fact]\n",
    "        is_changed = True\n",
    "\n",
    "while is_changed:\n",
    "    is_changed = False\n",
    "    for A1 in facts:\n",
    "        if A1[0] == \"mammal\":\n",
    "            assert_fact([\"vertebrate\", A1[1]])\n",
    "            assert_fact([\"menyusui\", A1[1]])\n",
    "        if A1[0] == \"vertebrate\":\n",
    "            assert_fact([\"animal\", A1[1]])\n",
    "        if A1[0] == \"vertebrate\" and [\"flying\",A1[1]] in facts:\n",
    "            assert_fact([\"bird\", A1[1]])\n",
    "            \n",
    "print(facts)"
   ]
  },
  {
   "cell_type": "code",
   "execution_count": 11,
   "id": "cee9497a",
   "metadata": {},
   "outputs": [
    {
     "name": "stdout",
     "output_type": "stream",
     "text": [
      "Fakta\n",
      "[['A', True], ['B', True], ['C', True], ['E', True], ['F', True], ['G', True]]\n",
      "\n",
      "Nasehat Investasi\n",
      "memiliki uang $10.000 untuk investasi \n",
      "berusia < 30\n",
      "tingkat Pendidikan pada level collage\n",
      "Investasi pada bidang sekuritas (Asuransi)\n",
      "Investasi pada saham pertumbuhan (growth stock)\n",
      "Investasi pada saham IBM \n"
     ]
    }
   ],
   "source": [
    "global facts\n",
    "global is_changed\n",
    "\n",
    "def suggestion(argument):\n",
    "    switcher = {\n",
    "        \"A\": \"memiliki uang $10.000 untuk investasi \",\n",
    "        \"B\": \"berusia < 30\",\n",
    "        \"C\": \"tingkat Pendidikan pada level collage\",\n",
    "        \"D\": \"pendapatan minimum pertahun $40.000\",\n",
    "        \"E\": \"Investasi pada bidang sekuritas (Asuransi)\",\n",
    "        \"F\": \"Investasi pada saham pertumbuhan (growth stock)\",\n",
    "        \"G\": \"Investasi pada saham IBM \"\n",
    "    }\n",
    "    return switcher.get(argument, \"nothing\")\n",
    "    \n",
    "is_changed = True\n",
    "facts = [[\"A\", True],[\"B\", True]]\n",
    "\n",
    "def assert_fact(fact):\n",
    "    global facts\n",
    "    global is_changed\n",
    "    if not fact in facts:\n",
    "        facts += [fact]\n",
    "        is_changed = True\n",
    "\n",
    "while is_changed:\n",
    "    is_changed = False\n",
    "    for A1 in facts:\n",
    "        if A1[0] == \"A\" and [\"C\", A1[1]] in facts:\n",
    "            assert_fact([\"E\", A1[1]])\n",
    "        if A1[0] == \"D\" and [\"C\", A1[1]] in facts:\n",
    "            assert_fact([\"F\", A1[1]])\n",
    "        if A1[0] == \"B\" and [\"E\", A1[1]] in facts:\n",
    "            assert_fact([\"F\", A1[1]])\n",
    "        if A1[0] == \"B\":\n",
    "            assert_fact([\"C\", A1[1]])\n",
    "        if A1[0] == \"F\":\n",
    "            assert_fact([\"G\", A1[1]])\n",
    "\n",
    "print(\"Fakta\")\n",
    "print(facts)\n",
    "print(\"\\nNasehat Investasi\")\n",
    "for i in facts:\n",
    "    if i[1] == True:\n",
    "        print(suggestion(i[0]))"
   ]
  },
  {
   "cell_type": "code",
   "execution_count": 3,
   "id": "5f67acec",
   "metadata": {},
   "outputs": [
    {
     "name": "stdout",
     "output_type": "stream",
     "text": [
      "zero\n"
     ]
    }
   ],
   "source": []
  }
 ],
 "metadata": {
  "kernelspec": {
   "display_name": "Python 3",
   "language": "python",
   "name": "python3"
  },
  "language_info": {
   "codemirror_mode": {
    "name": "ipython",
    "version": 3
   },
   "file_extension": ".py",
   "mimetype": "text/x-python",
   "name": "python",
   "nbconvert_exporter": "python",
   "pygments_lexer": "ipython3",
   "version": "3.8.8"
  }
 },
 "nbformat": 4,
 "nbformat_minor": 5
}
